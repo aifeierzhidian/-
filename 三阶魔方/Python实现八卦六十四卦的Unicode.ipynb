{
 "cells": [
  {
   "cell_type": "code",
   "execution_count": 13,
   "metadata": {},
   "outputs": [],
   "source": [
    "# k存储名称，v存储符号\n",
    "# 八卦符号和六十四卦符号是有unicode对应符号的，可以通过python生成。\n",
    "#八卦的字符区在[2630,2637]\n",
    "#六十四卦字符区[19904,19967]\n",
    "k8=['乾', '兑', '离', '震', '巽', '坎', '艮', '坤']\n",
    "k64=['乾', '坤', '屯', '蒙', '需', '讼', '师', '比', '小畜', '履', '泰', '否',\n",
    "     '同人', '大有', '谦', '豫', '随', '蛊', '临', '观', '噬嗑', '贲',  '剥', \n",
    "     '复', '无妄', '大畜', '颐', '大过', '坎', '离','咸', '恒', '遁', '大壮', \n",
    "     '晋', '明夷', '家人', '睽','蹇', '解', '损', '益', '夬', '姤', '萃', \n",
    "     '升', '困', '井','革', '鼎', '震','艮', '渐', '归妹','丰', '旅', '巽', '兑',\n",
    "     '涣', '节', '中孚','小过', '既济', '未济']\n",
    "v8=[]\n",
    "for i in range(2630,2638):\n",
    "    expression = \"u'\\\\u\" + str(i) + \"'\"\n",
    "    v8.append(eval(expression))\n",
    "v64=[]\n",
    "for i in range(19904,19968):\n",
    "    expression = \"u'\\\\u\" + str(hex(i))[2:] + \"'\"\n",
    "    v64.append(eval(expression))\n"
   ]
  },
  {
   "cell_type": "code",
   "execution_count": 14,
   "metadata": {},
   "outputs": [
    {
     "name": "stdout",
     "output_type": "stream",
     "text": [
      "八卦\n",
      "☰乾\t☱兑\t☲离\t☳震\n",
      "☴巽\t☵坎\t☶艮\t☷坤\n",
      "六十四卦\n",
      "䷀乾\t䷁坤\t䷂屯\t䷃蒙\t䷄需\t䷅讼\t䷆师\t䷇比\n",
      "䷈小畜\t䷉履\t䷊泰\t䷋否\t䷌同人\t䷍大有\t䷎谦\t䷏豫\n",
      "䷐随\t䷑蛊\t䷒临\t䷓观\t䷔噬嗑\t䷕贲\t䷖剥\t䷗复\n",
      "䷘无妄\t䷙大畜\t䷚颐\t䷛大过\t䷜坎\t䷝离\t䷞咸\t䷟恒\n",
      "䷠遁\t䷡大壮\t䷢晋\t䷣明夷\t䷤家人\t䷥睽\t䷦蹇\t䷧解\n",
      "䷨损\t䷩益\t䷪夬\t䷫姤\t䷬萃\t䷭升\t䷮困\t䷯井\n",
      "䷰革\t䷱鼎\t䷲震\t䷳艮\t䷴渐\t䷵归妹\t䷶丰\t䷷旅\n",
      "䷸巽\t䷹兑\t䷺涣\t䷻节\t䷼中孚\t䷽小过\t䷾既济\t䷿未济\n"
     ]
    }
   ],
   "source": [
    "#生成想要的格式\n",
    "print('八卦')\n",
    "print(\"\\t\".join([\"\".join([v,k]) for k,v in zip(k8[:4],v8[:4])]))\n",
    "print(\"\\t\".join([\"\".join([v,k]) for k,v in zip(k8[4:],v8[4:])]))\n",
    "print('六十四卦')\n",
    "for i in range(0,64,8):\n",
    "    print(\"\\t\".join([\"\".join([v,k]) for k,v in zip(k64[i:i+8],v64[i:i+8])]))"
   ]
  },
  {
   "cell_type": "code",
   "execution_count": null,
   "metadata": {},
   "outputs": [],
   "source": []
  }
 ],
 "metadata": {
  "kernelspec": {
   "display_name": "Python 3",
   "language": "python",
   "name": "python3"
  },
  "language_info": {
   "codemirror_mode": {
    "name": "ipython",
    "version": 3
   },
   "file_extension": ".py",
   "mimetype": "text/x-python",
   "name": "python",
   "nbconvert_exporter": "python",
   "pygments_lexer": "ipython3",
   "version": "3.11.1"
  },
  "orig_nbformat": 4,
  "vscode": {
   "interpreter": {
    "hash": "4565e424841b37c2f5bfd38423093e6813c7b565aaf13c4d8136265f453453ca"
   }
  }
 },
 "nbformat": 4,
 "nbformat_minor": 2
}
